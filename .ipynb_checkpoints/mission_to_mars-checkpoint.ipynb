{
 "cells": [
  {
   "cell_type": "code",
   "execution_count": 1,
   "metadata": {},
   "outputs": [],
   "source": [
    "from splinter import Browser\n",
    "from bs4 import BeautifulSoup as bs\n",
    "import time\n",
    "\n",
    "executable_path = {\"executable_path\": \"chromedriver.exe\"}\n",
    "browser = Browser(\"chrome\", **executable_path, headless=False)\n",
    "\n",
    "url = 'https://mars.nasa.gov/news/?page=0&per_page=40&order=publish_date+desc%2Ccreated_at+desc&search=&category=19%2C165%2C184%2C204&blank_scope=Latest'\n",
    "\n",
    "browser.visit(url)\n",
    "time.sleep(1)\n",
    "\n",
    "html = browser.html\n",
    "\n",
    "soup = bs(html, 'html.parser')\n",
    "browser.quit()"
   ]
  },
  {
   "cell_type": "code",
   "execution_count": 5,
   "metadata": {},
   "outputs": [
    {
     "name": "stdout",
     "output_type": "stream",
     "text": [
      "NASA's Treasure Map for Water Ice on Mars \n",
      " A new study identifies frozen water just below the Martian surface, where astronauts could easily dig it up.\n"
     ]
    }
   ],
   "source": [
    "slides = soup.find_all('li', class_='slide')\n",
    "slide = slides[0]\n",
    "news_title = slide.find('div', class_='content_title').text\n",
    "news_para = slide.find('div', class_='article_teaser_body').text\n",
    "print(news_title,'\\n',news_para)"
   ]
  },
  {
   "cell_type": "markdown",
   "metadata": {},
   "source": [
    "#### Getting Image from jpl.nasa.gov"
   ]
  },
  {
   "cell_type": "code",
   "execution_count": 6,
   "metadata": {},
   "outputs": [
    {
     "name": "stderr",
     "output_type": "stream",
     "text": [
      "C:\\Users\\graha\\Anaconda3\\lib\\site-packages\\splinter\\driver\\webdriver\\__init__.py:504: FutureWarning: browser.find_link_by_partial_text is deprecated. Use browser.links.find_by_partial_text instead.\n",
      "  FutureWarning,\n"
     ]
    }
   ],
   "source": [
    "url = 'https://www.jpl.nasa.gov/spaceimages/?search=&category=Mars'\n",
    "browser_jpl = Browser(\"chrome\", **executable_path, headless=False)\n",
    "\n",
    "browser_jpl.visit(url)\n",
    "\n",
    "time.sleep(2)\n",
    "\n",
    "browser_jpl.click_link_by_partial_text('FULL IMAGE')\n",
    "\n",
    "time.sleep(2)\n",
    "\n",
    "html = browser_jpl.html\n",
    "\n",
    "soup = bs(html, 'html.parser')\n",
    "browser_jpl.quit()"
   ]
  },
  {
   "cell_type": "code",
   "execution_count": 8,
   "metadata": {
    "scrolled": false
   },
   "outputs": [
    {
     "name": "stdout",
     "output_type": "stream",
     "text": [
      "https://www.jpl.nasa.gov/spaceimages/images/mediumsize/PIA00029_ip.jpg\n"
     ]
    }
   ],
   "source": [
    "img = soup.find('div', class_='fancybox-inner')\n",
    "img_url = img.find('img')['src']\n",
    "img_url_start = 'https://www.jpl.nasa.gov'\n",
    "full_image_url = img_url_start + img_url\n",
    "\n",
    "\n",
    "print(full_image_url)"
   ]
  },
  {
   "cell_type": "code",
   "execution_count": 10,
   "metadata": {},
   "outputs": [],
   "source": [
    "url = 'https://twitter.com/marswxreport?lang=en'\n",
    "browser_twit = Browser(\"chrome\", **executable_path, headless=False)\n",
    "\n",
    "browser_twit.visit(url)\n",
    "\n",
    "time.sleep(2)\n",
    "\n",
    "html = browser_twit.html\n",
    "\n",
    "soup = bs(html, 'html.parser')\n",
    "browser_twit.quit()"
   ]
  },
  {
   "cell_type": "code",
   "execution_count": 17,
   "metadata": {
    "scrolled": false
   },
   "outputs": [
    {
     "data": {
      "text/plain": [
       "'InSight sol 372 (2019-12-13) low -97.2ºC (-143.0ºF) high -21.2ºC (-6.2ºF) winds from the SSE at 5.9 m/s (13.3 mph) gusting to 20.2 m/s (45.2 mph) pressure at 6.60 hPa'"
      ]
     },
     "execution_count": 17,
     "metadata": {},
     "output_type": "execute_result"
    }
   ],
   "source": [
    "tweet = soup.find('li', class_='js-stream-item')\n",
    "mars_weather = tweet.find('p', class_='tweet-text').text\n",
    "mars_weather = mars_weather.replace('\\n', ' ')\n",
    "mars_weather = mars_weather.split('pic.')\n",
    "mars_weather = mars_weather[0]\n",
    "mars_weather"
   ]
  },
  {
   "cell_type": "code",
   "execution_count": 2,
   "metadata": {},
   "outputs": [],
   "source": [
    "import pandas as pd\n",
    "\n",
    "url = 'https://space-facts.com/mars/'\n",
    "\n",
    "tables = pd.read_html(url)"
   ]
  },
  {
   "cell_type": "code",
   "execution_count": 4,
   "metadata": {},
   "outputs": [
    {
     "data": {
      "text/plain": [
       "'<table border=\"1\" class=\"dataframe\">   <thead>     <tr style=\"text-align: right;\">       <th>0</th>       <th>1</th>     </tr>   </thead>   <tbody>     <tr>       <td>Equatorial Diameter:</td>       <td>6,792 km</td>     </tr>     <tr>       <td>Polar Diameter:</td>       <td>6,752 km</td>     </tr>     <tr>       <td>Mass:</td>       <td>6.39 × 10^23 kg (0.11 Earths)</td>     </tr>     <tr>       <td>Moons:</td>       <td>2 (Phobos &amp; Deimos)</td>     </tr>     <tr>       <td>Orbit Distance:</td>       <td>227,943,824 km (1.38 AU)</td>     </tr>     <tr>       <td>Orbit Period:</td>       <td>687 days (1.9 years)</td>     </tr>     <tr>       <td>Surface Temperature:</td>       <td>-87 to -5 °C</td>     </tr>     <tr>       <td>First Record:</td>       <td>2nd millennium BC</td>     </tr>     <tr>       <td>Recorded By:</td>       <td>Egyptian astronomers</td>     </tr>   </tbody> </table>'"
      ]
     },
     "execution_count": 4,
     "metadata": {},
     "output_type": "execute_result"
    }
   ],
   "source": [
    "table = tables[0]\n",
    "\n",
    "table_html = table.to_html(index=False).replace('\\n', ' ')\n",
    "table_html"
   ]
  },
  {
   "cell_type": "code",
   "execution_count": 27,
   "metadata": {},
   "outputs": [],
   "source": [
    "url = 'https://astrogeology.usgs.gov/search/results?q=hemisphere+enhanced&k1=target&v1=Mars'\n",
    "browser_ast = Browser(\"chrome\", **executable_path, headless=False)\n",
    "\n",
    "browser_ast.visit(url)\n",
    "\n",
    "time.sleep(2)\n",
    "\n",
    "browser_ast.click_link_by_partial_text('Cerberus Hemisphere Enhanced')\n",
    "\n",
    "time.sleep(2)\n",
    "\n",
    "html_cerb = browser_ast.html\n",
    "soup_cerb = bs(html_cerb, 'html.parser')\n",
    "\n",
    "time.sleep(2)\n",
    "\n",
    "browser_ast.click_link_by_partial_text('Valles Marineris Hemisphere Enhanced')\n",
    "\n",
    "time.sleep(2)\n",
    "\n",
    "html_vall = browser_ast.html\n",
    "soup_vall = bs(html_vall, 'html.parser')\n",
    "\n",
    "time.sleep(2)\n",
    "\n",
    "browser_ast.click_link_by_partial_text('Syrtis Major Hemisphere Enhanced')\n",
    "\n",
    "time.sleep(2)\n",
    "\n",
    "html_syr = browser_ast.html\n",
    "soup_syr = bs(html_syr, 'html.parser')\n",
    "\n",
    "time.sleep(2)\n",
    "\n",
    "browser_ast.click_link_by_partial_text('Schiaparelli Hemisphere Enhanced')\n",
    "\n",
    "time.sleep(2)\n",
    "\n",
    "html_schi = browser_ast.html\n",
    "soup_schi = bs(html_schi, 'html.parser')\n",
    "\n",
    "browser_ast.quit()"
   ]
  },
  {
   "cell_type": "code",
   "execution_count": 42,
   "metadata": {},
   "outputs": [
    {
     "name": "stdout",
     "output_type": "stream",
     "text": [
      "{'title': 'Cerberus Hemisphere Enhanced', 'url': 'https://astrogeology.usgs.gov/cache/images/cfa62af2557222a02478f1fcd781d445_cerberus_enhanced.tif_full.jpg'}\n",
      "\n",
      "\n",
      "{'title': 'Valles Marineris Hemisphere Enhanced', 'url': 'https://astrogeology.usgs.gov/cache/images/7cf2da4bf549ed01c17f206327be4db7_valles_marineris_enhanced.tif_full.jpg'}\n",
      "\n",
      "\n",
      "{'title': 'Syrtis Major Hemisphere Enhanced', 'url': 'https://astrogeology.usgs.gov/cache/images/ae209b4e408bb6c3e67b6af38168cf28_syrtis_major_enhanced.tif_full.jpg'}\n",
      "\n",
      "\n",
      "{'title': 'Schiaparelli Hemisphere Enhanced', 'url': 'https://astrogeology.usgs.gov/cache/images/3cdd1cbf5e0813bba925c9030d13b62e_schiaparelli_enhanced.tif_full.jpg'}\n",
      "\n",
      "\n"
     ]
    }
   ],
   "source": [
    "cerb_img_end = soup_cerb.find('img', class_='wide-image')['src']\n",
    "cerb_img_start = 'https://astrogeology.usgs.gov'\n",
    "cerb_url = cerb_img_start + cerb_img_end\n",
    "#print(cerb_url)\n",
    "\n",
    "vall_img_end = soup_vall.find('img', class_='wide-image')['src']\n",
    "vall_img_start = 'https://astrogeology.usgs.gov'\n",
    "vall_url = vall_img_start + vall_img_end\n",
    "#print(vall_url)\n",
    "\n",
    "syr_img_end = soup_syr.find('img', class_='wide-image')['src']\n",
    "syr_img_start = 'https://astrogeology.usgs.gov'\n",
    "syr_url = syr_img_start + syr_img_end\n",
    "#print(syr_url)\n",
    "\n",
    "schi_img_end = soup_schi.find('img', class_='wide-image')['src']\n",
    "schi_img_start = 'https://astrogeology.usgs.gov'\n",
    "schi_url = schi_img_start + schi_img_end\n",
    "#print(schi_url)\n",
    "\n",
    "\n",
    "hemi_dict = [\n",
    "    {'title':'Cerberus Hemisphere Enhanced','url':cerb_url},\n",
    "    {'title':'Valles Marineris Hemisphere Enhanced','url':vall_url},\n",
    "    {'title':'Syrtis Major Hemisphere Enhanced','url':syr_url},\n",
    "    {'title':'Schiaparelli Hemisphere Enhanced','url':schi_url},\n",
    "]\n",
    "\n",
    "for i in hemi_dict:\n",
    "    print(i)\n",
    "    print('\\n')"
   ]
  },
  {
   "cell_type": "code",
   "execution_count": null,
   "metadata": {},
   "outputs": [],
   "source": []
  }
 ],
 "metadata": {
  "kernelspec": {
   "display_name": "Python 3",
   "language": "python",
   "name": "python3"
  },
  "language_info": {
   "codemirror_mode": {
    "name": "ipython",
    "version": 3
   },
   "file_extension": ".py",
   "mimetype": "text/x-python",
   "name": "python",
   "nbconvert_exporter": "python",
   "pygments_lexer": "ipython3",
   "version": "3.7.3"
  }
 },
 "nbformat": 4,
 "nbformat_minor": 2
}
